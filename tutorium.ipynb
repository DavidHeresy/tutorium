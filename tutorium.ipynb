{
 "cells": [
  {
   "cell_type": "markdown",
   "metadata": {},
   "source": [
    "# Tutorium Grundlagen der Signalverarbeitung"
   ]
  },
  {
   "cell_type": "markdown",
   "metadata": {},
   "source": [
    "## Spannung und Leistung"
   ]
  },
  {
   "cell_type": "markdown",
   "metadata": {},
   "source": [
    "**Was ist Energie, bzw. Arbeit?**\n",
    "\n",
    "Energie und Arbeit sind Synonyme. Je nach Kontext ist der eine, oder der andere Begriff gebräuchlicher."
   ]
  },
  {
   "cell_type": "markdown",
   "metadata": {},
   "source": [
    "**Was ist ein Potential?**\n",
    "\n",
    "Ein elektrische Potential $\\varphi$ ist das Verhältnis der potentiellen Energie $E_\\text{pot}$ einer Probeladung zum Wert $q$ der Probeladung.\n",
    "\n",
    "$$\n",
    "\\varphi = \\frac{E_\\text{pot}}{q}\n",
    "$$"
   ]
  },
  {
   "cell_type": "markdown",
   "metadata": {},
   "source": [
    "**Was ist Spannung?**\n",
    "\n",
    "Eine Spannung $U$ ist eine Potentialdifferenz zwischen einem Potential $\\varphi_0$ und $\\varphi_1$.\n",
    "\n",
    "$$\n",
    "U = \\varphi_1 - \\varphi_0\n",
    "$$\n",
    "\n",
    "Um für eine Ladung $q$ die Potentialdifferenz $U$ zu überwinden, muss die Arbeit $W$ aufgebracht werden, bzw. wird die Energie $E = W$ frei.\n",
    "\n",
    "$$\n",
    "U = \\frac{W}{q}\n",
    "\\Leftrightarrow\n",
    "W = U \\cdot q\n",
    "$$"
   ]
  },
  {
   "cell_type": "markdown",
   "metadata": {},
   "source": [
    "**Was ist Strom?**\n",
    "\n",
    "Ein Strom $I$ ist die zeitliche Veränderung von einer Ladung $q$.\n",
    "\n",
    "$$\n",
    "I = \\frac{dq}{dt} \n",
    "$$"
   ]
  },
  {
   "cell_type": "markdown",
   "metadata": {},
   "source": [
    "**Was ist ein Bauteil?**\n",
    "\n",
    "Ein Bauteil ist naiv gesagt ein physikalisches Objekt mit Anschlüssen.\n",
    "Von einem Anschluss zum anderen fällt über dem Bauteil eine Spannung $U$ ab und fließt durch das Bauteil ein Strom $I$."
   ]
  },
  {
   "cell_type": "markdown",
   "metadata": {},
   "source": [
    "**Was ist ein Widerstand?**\n",
    "\n",
    "Der Widerstand $R$ über einem Bauteil ist das Verhältnis von der Spannung $U$, welche über diesem Bauteil abfällt und dem Strom $i$, welcher durch dieses Bauteil fließt.\n",
    "\n",
    "$$\n",
    "R = \\frac{U}{I}\n",
    "\\Leftrightarrow\n",
    "I = \\frac{U}{R}\n",
    "$$"
   ]
  },
  {
   "cell_type": "markdown",
   "metadata": {},
   "source": [
    "**Was ist Leistung?**\n",
    "\n",
    "Leistung ist Arbeit, bzw. Energie pro Zeit.\n",
    "\n",
    "$$\n",
    "P = \\frac{dW}{dt}\n",
    "$$"
   ]
  },
  {
   "cell_type": "markdown",
   "metadata": {},
   "source": [
    "**Wie hängen Leistung und Spannung zusammen?**\n",
    "\n",
    "Die Leistung die an einem Bauteil abgegeben oder erzeugt wird, und die Spannung, welche über diesem Bauteil abfällt, hängen folgerndermaßen zusammen:\n",
    "\n",
    "$$\n",
    "P = \\frac{dW}{dt}\n",
    "= \\frac{d(U \\cdot q)}{dt}\n",
    "= U \\cdot \\frac{dq}{dt}\n",
    "= U \\cdot I\n",
    "= U \\cdot \\frac{U}{R}\n",
    "= \\frac{U^2}{R}\\\\\n",
    "\\Rightarrow\n",
    "P \\propto U^2\n",
    "$$"
   ]
  }
 ],
 "metadata": {
  "kernelspec": {
   "display_name": "Python 3",
   "language": "python",
   "name": "python3"
  },
  "language_info": {
   "codemirror_mode": {
    "name": "ipython",
    "version": 3
   },
   "file_extension": ".py",
   "mimetype": "text/x-python",
   "name": "python",
   "nbconvert_exporter": "python",
   "pygments_lexer": "ipython3",
   "version": "3.8.1"
  }
 },
 "nbformat": 4,
 "nbformat_minor": 4
}
